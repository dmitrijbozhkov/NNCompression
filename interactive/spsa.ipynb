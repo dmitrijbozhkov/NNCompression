{
 "cells": [
  {
   "cell_type": "code",
   "execution_count": 1,
   "id": "5d2bf444-e157-449e-96d5-1a39c70e4c81",
   "metadata": {},
   "outputs": [],
   "source": [
    "import pandas as pd\n",
    "import matplotlib.pyplot as plt\n",
    "import sys\n",
    "import numpy as np\n",
    "\n",
    "import matplotlib as mpl\n",
    "sys.path.insert(1, \"/home/dima/Projects/NNCompression\")\n",
    "from pathlib import Path\n",
    "import torch.nn as nn"
   ]
  },
  {
   "cell_type": "code",
   "execution_count": 2,
   "id": "00b5666a-e503-4949-b004-243d1f3b5b38",
   "metadata": {},
   "outputs": [],
   "source": [
    "from study.configs.config_base import StudyConfig\n",
    "from study.study import Study\n",
    "import models.spsa as spsa\n",
    "from importlib import reload"
   ]
  },
  {
   "cell_type": "code",
   "execution_count": 3,
   "id": "2be2b898-cdb2-4816-a4eb-9b68fbbaa3cf",
   "metadata": {},
   "outputs": [
    {
     "data": {
      "text/plain": [
       "<module 'models.spsa' from '/home/dima/Projects/NNCompression/models/spsa.py'>"
      ]
     },
     "execution_count": 3,
     "metadata": {},
     "output_type": "execute_result"
    }
   ],
   "source": [
    "reload(spsa)"
   ]
  },
  {
   "cell_type": "code",
   "execution_count": 4,
   "id": "f5b27045-5f2a-4fa5-ae80-128b1d8ef0ac",
   "metadata": {},
   "outputs": [
    {
     "name": "stderr",
     "output_type": "stream",
     "text": [
      "/home/dima/miniconda3/envs/wsdm/lib/python3.12/site-packages/hydra/_internal/defaults_list.py:251: UserWarning: In 'template': Defaults list is missing `_self_`. See https://hydra.cc/docs/1.2/upgrades/1.0_to_1.1/default_composition_order for more information\n",
      "  warnings.warn(msg, UserWarning)\n"
     ]
    }
   ],
   "source": [
    "study_config = Study.study_initialize()"
   ]
  },
  {
   "cell_type": "code",
   "execution_count": 5,
   "id": "98477935-4c19-4278-b719-138844dd4d27",
   "metadata": {},
   "outputs": [],
   "source": [
    "study_config.training_config.epoch = 5\n",
    "study_config.training_config.evaluate_step = 2\n",
    "study_config.reruns = 3\n",
    "study_config.training_config.dataset = \"FashionMNIST\"\n",
    "# study_config.training_config.gpu = \"cpu\"\n",
    "study_config.training_config.model = \"LeNet3_3\"\n",
    "study_config.training_config.optimizer_type = \"spsa\"\n",
    "\n",
    "\n",
    "study_config.perturb_regularization_config.is_perturb_reg = True\n",
    "\n",
    "study_config.perturb_regularization_config.perturb_loss_mult = 0.1\n",
    "study_config.is_record_loss = True"
   ]
  },
  {
   "cell_type": "code",
   "execution_count": 6,
   "id": "47857ffd-6fe8-437a-a18d-c7985b3f884a",
   "metadata": {},
   "outputs": [],
   "source": [
    "runner_config = study_config.make_runner_config_dict()"
   ]
  },
  {
   "cell_type": "code",
   "execution_count": 7,
   "id": "494bc1aa-9144-4baa-9927-c1f68c853e49",
   "metadata": {},
   "outputs": [
    {
     "data": {
      "text/plain": [
       "<module 'models.spsa' from '/home/dima/Projects/NNCompression/models/spsa.py'>"
      ]
     },
     "execution_count": 7,
     "metadata": {},
     "output_type": "execute_result"
    }
   ],
   "source": [
    "reload(spsa)"
   ]
  },
  {
   "cell_type": "code",
   "execution_count": 8,
   "id": "56a13265-9a05-44df-b0c7-cea93ed122ca",
   "metadata": {},
   "outputs": [],
   "source": [
    "s = spsa.SPSA(\n",
    "    runner_config[\"net\"],\n",
    "    nn.CrossEntropyLoss(reduction=\"none\"),\n",
    "    runner_config[\"device\"],\n",
    "    0.001,\n",
    "    0.01,\n",
    "    1\n",
    ")"
   ]
  },
  {
   "cell_type": "code",
   "execution_count": 9,
   "id": "f7dfc678-9607-4026-ada5-172135cf3a6b",
   "metadata": {},
   "outputs": [
    {
     "data": {
      "text/plain": [
       "tensor([-0.0015,  0.1073, -0.1646,  ..., -0.0567,  0.0278,  0.0042],\n",
       "       device='cuda:0')"
      ]
     },
     "execution_count": 9,
     "metadata": {},
     "output_type": "execute_result"
    }
   ],
   "source": [
    "s.spsa_params"
   ]
  },
  {
   "cell_type": "code",
   "execution_count": 19,
   "id": "313ac9ea-8b9a-411e-9c66-e56402159723",
   "metadata": {},
   "outputs": [
    {
     "name": "stdout",
     "output_type": "stream",
     "text": [
      "Initital params\n",
      "0.008344623060592481\n",
      "0.00030992098232155677\n",
      "tensor([ 1.,  1.,  1.,  ..., -1., -1.,  1.], device='cuda:0')\n",
      "Perturb forward\n",
      "tensor([ 0.0083,  0.0083,  0.0083,  ..., -0.0083, -0.0083,  0.0083],\n",
      "       device='cuda:0')\n",
      "tensor([ 0.0069,  0.1157, -0.1563,  ..., -0.0651,  0.0194,  0.0125],\n",
      "       device='cuda:0')\n",
      "tensor(2.3076, device='cuda:0')\n",
      "Perturb backward\n",
      "tensor([-0.0098,  0.0990, -0.1730,  ..., -0.0484,  0.0361, -0.0042],\n",
      "       device='cuda:0')\n",
      "tensor(2.3042, device='cuda:0')\n",
      "Central difference\n",
      "tensor([ 0.2046,  0.2046,  0.2046,  ..., -0.2046, -0.2046,  0.2046],\n",
      "       device='cuda:0')\n"
     ]
    }
   ],
   "source": [
    "s.step(runner_config[\"dataset\"].data_loaders[0])"
   ]
  },
  {
   "cell_type": "code",
   "execution_count": 20,
   "id": "423d216f-9eef-4a50-bfd5-e31c4e9dd9b6",
   "metadata": {},
   "outputs": [
    {
     "data": {
      "text/plain": [
       "tensor([-0.0015,  0.1073, -0.1647,  ..., -0.0567,  0.0278,  0.0041],\n",
       "       device='cuda:0')"
      ]
     },
     "execution_count": 20,
     "metadata": {},
     "output_type": "execute_result"
    }
   ],
   "source": [
    "s.spsa_params"
   ]
  },
  {
   "cell_type": "code",
   "execution_count": 12,
   "id": "bf3f76ae-9d18-4f3f-b55a-63dda1ba0ff5",
   "metadata": {},
   "outputs": [
    {
     "data": {
      "text/plain": [
       "tensor(0.0761, device='cuda:0')"
      ]
     },
     "execution_count": 12,
     "metadata": {},
     "output_type": "execute_result"
    }
   ],
   "source": [
    "s.spsa_params.std()"
   ]
  },
  {
   "cell_type": "code",
   "execution_count": null,
   "id": "c73a6649-347d-4cc2-aab5-67bbc318eda3",
   "metadata": {},
   "outputs": [],
   "source": []
  }
 ],
 "metadata": {
  "kernelspec": {
   "display_name": "Python 3 (ipykernel)",
   "language": "python",
   "name": "python3"
  },
  "language_info": {
   "codemirror_mode": {
    "name": "ipython",
    "version": 3
   },
   "file_extension": ".py",
   "mimetype": "text/x-python",
   "name": "python",
   "nbconvert_exporter": "python",
   "pygments_lexer": "ipython3",
   "version": "3.12.2"
  }
 },
 "nbformat": 4,
 "nbformat_minor": 5
}
