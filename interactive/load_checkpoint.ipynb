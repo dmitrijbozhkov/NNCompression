{
 "cells": [
  {
   "cell_type": "code",
   "execution_count": 1,
   "id": "84a34898-2833-4914-b23f-0e0c3b6641e0",
   "metadata": {},
   "outputs": [],
   "source": [
    "import pandas as pd\n",
    "import matplotlib.pyplot as plt\n",
    "import sys\n",
    "import numpy as np\n",
    "\n",
    "import matplotlib as mpl\n",
    "sys.path.insert(1, \"/home/dima/Projects/NNCompression\")\n",
    "from pathlib import Path\n",
    "import torch.nn as nn"
   ]
  },
  {
   "cell_type": "code",
   "execution_count": 2,
   "id": "0a147837-6558-4b62-bdba-92743ff4552b",
   "metadata": {},
   "outputs": [],
   "source": [
    "from study.study import Study"
   ]
  },
  {
   "cell_type": "code",
   "execution_count": 3,
   "id": "ee6454ad-ffd9-41c6-b296-e1acdcacb164",
   "metadata": {},
   "outputs": [
    {
     "name": "stderr",
     "output_type": "stream",
     "text": [
      "/home/dima/miniconda3/envs/wsdm/lib/python3.12/site-packages/hydra/_internal/defaults_list.py:251: UserWarning: In 'resnet18_perturb_experiment': Defaults list is missing `_self_`. See https://hydra.cc/docs/1.2/upgrades/1.0_to_1.1/default_composition_order for more information\n",
      "  warnings.warn(msg, UserWarning)\n",
      "[I 2025-01-27 07:33:27,267] Using an existing study with name 'resnet18_perturb_experiment' instead of creating a new one.\n"
     ]
    }
   ],
   "source": [
    "study_config = Study.study_initialize(\"resnet18_perturb_experiment\")\n",
    "study_config.quantization_config.quantization_type = \"kmeans\"\n",
    "study = Study(study_config)"
   ]
  },
  {
   "cell_type": "code",
   "execution_count": 4,
   "id": "e0e6c529-9aa2-4d43-bf80-397c46bc942c",
   "metadata": {},
   "outputs": [
    {
     "name": "stdout",
     "output_type": "stream",
     "text": [
      "Files already downloaded and verified\n",
      "Files already downloaded and verified\n"
     ]
    },
    {
     "name": "stderr",
     "output_type": "stream",
     "text": [
      "INFO:study_logger:Loaded checkpoint: /run/media/dima/Scratch/perturb_experiment/run_out/resnet18_perturb_experiment/15/checkpoints/0/53.pth\n"
     ]
    },
    {
     "data": {
      "text/plain": [
       "<runners.runner_base.Runner at 0x7f3b38abd400>"
      ]
     },
     "execution_count": 4,
     "metadata": {},
     "output_type": "execute_result"
    }
   ],
   "source": [
    "runner =  study.load_checkpoint(\"15\", 0, 53)\n",
    "runner"
   ]
  },
  {
   "cell_type": "code",
   "execution_count": 5,
   "id": "73908f1e-2303-4240-9be8-08add9a08e45",
   "metadata": {},
   "outputs": [
    {
     "data": {
      "text/plain": [
       "array([-0.01202851,  0.00076808,  0.03222996, -0.03927187], dtype=float32)"
      ]
     },
     "execution_count": 5,
     "metadata": {},
     "output_type": "execute_result"
    }
   ],
   "source": [
    "runner.quantize(4)"
   ]
  },
  {
   "cell_type": "code",
   "execution_count": 6,
   "id": "ce0aa9fb-dad9-4212-a386-c302ae658923",
   "metadata": {},
   "outputs": [
    {
     "data": {
      "text/plain": [
       "0.01"
      ]
     },
     "execution_count": 6,
     "metadata": {},
     "output_type": "execute_result"
    }
   ],
   "source": [
    "runner.eval_accuracy(\"test\")"
   ]
  },
  {
   "cell_type": "code",
   "execution_count": 7,
   "id": "e2776eb6-1c41-4c70-ab66-7fae51e685ba",
   "metadata": {},
   "outputs": [
    {
     "name": "stderr",
     "output_type": "stream",
     "text": [
      "INFO:study_logger:Loaded checkpoint: /run/media/dima/Scratch/perturb_experiment/run_out/resnet18_perturb_experiment/15/checkpoints/0/53.pth\n"
     ]
    }
   ],
   "source": [
    "runner.load_checkpoint(53)"
   ]
  },
  {
   "cell_type": "code",
   "execution_count": null,
   "id": "8f7a85cd-b684-436a-9e76-48a8e6f81ccd",
   "metadata": {},
   "outputs": [],
   "source": []
  }
 ],
 "metadata": {
  "kernelspec": {
   "display_name": "Python 3 (ipykernel)",
   "language": "python",
   "name": "python3"
  },
  "language_info": {
   "codemirror_mode": {
    "name": "ipython",
    "version": 3
   },
   "file_extension": ".py",
   "mimetype": "text/x-python",
   "name": "python",
   "nbconvert_exporter": "python",
   "pygments_lexer": "ipython3",
   "version": "3.12.2"
  }
 },
 "nbformat": 4,
 "nbformat_minor": 5
}
