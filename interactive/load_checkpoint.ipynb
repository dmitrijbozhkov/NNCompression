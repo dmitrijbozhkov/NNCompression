{
 "cells": [
  {
   "cell_type": "code",
   "execution_count": 45,
   "id": "84a34898-2833-4914-b23f-0e0c3b6641e0",
   "metadata": {},
   "outputs": [],
   "source": [
    "import pandas as pd\n",
    "import matplotlib.pyplot as plt\n",
    "import sys\n",
    "import numpy as np\n",
    "\n",
    "import matplotlib as mpl\n",
    "sys.path.insert(1, \"/home/dima/Projects/NNCompression\")\n",
    "from pathlib import Path\n",
    "import torch.nn as nn\n",
    "import pandas as pd"
   ]
  },
  {
   "cell_type": "code",
   "execution_count": 46,
   "id": "0a147837-6558-4b62-bdba-92743ff4552b",
   "metadata": {},
   "outputs": [],
   "source": [
    "from study.study import Study"
   ]
  },
  {
   "cell_type": "code",
   "execution_count": 55,
   "id": "ee6454ad-ffd9-41c6-b296-e1acdcacb164",
   "metadata": {},
   "outputs": [
    {
     "name": "stderr",
     "output_type": "stream",
     "text": [
      "/home/dima/miniconda3/envs/wsdm/lib/python3.12/site-packages/hydra/_internal/defaults_list.py:251: UserWarning: In 'resnet18_load_experiment': Defaults list is missing `_self_`. See https://hydra.cc/docs/1.2/upgrades/1.0_to_1.1/default_composition_order for more information\n",
      "  warnings.warn(msg, UserWarning)\n"
     ]
    }
   ],
   "source": [
    "study_config = Study.study_initialize(\"resnet18_load_experiment\")\n",
    "study = Study(study_config)"
   ]
  },
  {
   "cell_type": "code",
   "execution_count": 56,
   "id": "22ee3522-eaad-4cd1-abbc-ab5d263b1699",
   "metadata": {},
   "outputs": [
    {
     "data": {
      "text/plain": [
       "'resnet18_cifar'"
      ]
     },
     "execution_count": 56,
     "metadata": {},
     "output_type": "execute_result"
    }
   ],
   "source": [
    "study_config.training_config.model"
   ]
  },
  {
   "cell_type": "code",
   "execution_count": 57,
   "id": "6334244e-fcd3-4d75-9bbb-15e3d977234f",
   "metadata": {},
   "outputs": [],
   "source": [
    "study_config.quantization_config.quantization_type = \"linear\"\n",
    "study_config.quantization_config.quantization_method = \"uniform_affine\"\n",
    "study_config.quantization_config.quantization_granularity = \"layer\""
   ]
  },
  {
   "cell_type": "code",
   "execution_count": 58,
   "id": "e0e6c529-9aa2-4d43-bf80-397c46bc942c",
   "metadata": {},
   "outputs": [
    {
     "name": "stderr",
     "output_type": "stream",
     "text": [
      "INFO:study_logger:Trial not set, trial id is: 566adc664588268d1c83f2a7ddd1d4a1\n",
      "INFO:study_logger:Loaded checkpoint: /run/media/dima/Scratch/perturb_experiment/run_out/resnet18_perturb_loss_01_experiment/15/checkpoints/0/64.pth\n",
      "INFO:study_logger:Started training run: 0\n",
      "INFO:study_logger:Saved checkpoint: /run/media/dima/Scratch/perturb_experiment/run_out/resnet18_baseline/566adc664588268d1c83f2a7ddd1d4a1/checkpoints/0/00.pth\n"
     ]
    },
    {
     "name": "stdout",
     "output_type": "stream",
     "text": [
      "After train episode\n",
      "Epoch end save\n"
     ]
    },
    {
     "name": "stderr",
     "output_type": "stream",
     "text": [
      "INFO:study_logger:Eval test_accuracy: 0.666\n",
      "INFO:study_logger:Eval quant_2_test_accuracy: 0.010083333333333333\n",
      "INFO:study_logger:Loaded checkpoint: /run/media/dima/Scratch/perturb_experiment/run_out/resnet18_baseline/566adc664588268d1c83f2a7ddd1d4a1/checkpoints/0/00.pth\n",
      "INFO:study_logger:Eval quant_4_test_accuracy: 0.009416666666666667\n",
      "INFO:study_logger:Loaded checkpoint: /run/media/dima/Scratch/perturb_experiment/run_out/resnet18_baseline/566adc664588268d1c83f2a7ddd1d4a1/checkpoints/0/00.pth\n",
      "INFO:study_logger:Eval quant_8_test_accuracy: 0.587\n",
      "INFO:study_logger:Loaded checkpoint: /run/media/dima/Scratch/perturb_experiment/run_out/resnet18_baseline/566adc664588268d1c83f2a7ddd1d4a1/checkpoints/0/00.pth\n",
      "INFO:study_logger:Eval quant_16_test_accuracy: 0.65475\n",
      "INFO:study_logger:Loaded checkpoint: /run/media/dima/Scratch/perturb_experiment/run_out/resnet18_baseline/566adc664588268d1c83f2a7ddd1d4a1/checkpoints/0/00.pth\n",
      "INFO:study_logger:Eval quant_32_test_accuracy: 0.666\n",
      "INFO:study_logger:Loaded checkpoint: /run/media/dima/Scratch/perturb_experiment/run_out/resnet18_baseline/566adc664588268d1c83f2a7ddd1d4a1/checkpoints/0/00.pth\n",
      "INFO:study_logger:Eval quant_64_test_accuracy: 0.66475\n",
      "INFO:study_logger:Loaded checkpoint: /run/media/dima/Scratch/perturb_experiment/run_out/resnet18_baseline/566adc664588268d1c83f2a7ddd1d4a1/checkpoints/0/00.pth\n",
      "INFO:study_logger:Eval quant_128_test_accuracy: 0.6655\n",
      "INFO:study_logger:Loaded checkpoint: /run/media/dima/Scratch/perturb_experiment/run_out/resnet18_baseline/566adc664588268d1c83f2a7ddd1d4a1/checkpoints/0/00.pth\n",
      "INFO:study_logger:Eval quant_256_test_accuracy: 0.6660833333333334\n",
      "INFO:study_logger:Loaded checkpoint: /run/media/dima/Scratch/perturb_experiment/run_out/resnet18_baseline/566adc664588268d1c83f2a7ddd1d4a1/checkpoints/0/00.pth\n",
      "INFO:study_logger:{'config': {'batch_size': 1024,\n",
      "            'database': '',\n",
      "            'dataset': 'cifar100',\n",
      "            'dataset_test_split': 0.2,\n",
      "            'dataset_train_split': 0.6,\n",
      "            'dataset_valid_split': 0.2,\n",
      "            'early_stopping_eval_metric': '',\n",
      "            'early_stopping_min_delta': 0,\n",
      "            'early_stopping_tolerance': 0,\n",
      "            'epoch': 0,\n",
      "            'epochs_test': -1,\n",
      "            'evaluate_datasets': ['test'],\n",
      "            'evaluate_metrics': ['accuracy'],\n",
      "            'evaluate_step': 1,\n",
      "            'gpu': '',\n",
      "            'hp_sampler': 'tpe',\n",
      "            'is_canonical_transforms': True,\n",
      "            'is_collect_objective_values': False,\n",
      "            'is_dataset_canon_split': False,\n",
      "            'is_early_stopping': False,\n",
      "            'is_hpo': False,\n",
      "            'is_perturb_reg': True,\n",
      "            'is_quantize': True,\n",
      "            'is_record_loss': False,\n",
      "            'learning_rate': 0.001,\n",
      "            'load_checkpoint': '/run/media/dima/Scratch/perturb_experiment/run_out/resnet18_perturb_loss_01_experiment/15/checkpoints/0/64.pth',\n",
      "            'logging_level': 'info',\n",
      "            'loss_weight': 1.0,\n",
      "            'model': 'resnet18_cifar',\n",
      "            'n_trials': 0,\n",
      "            'opt_direction': 'minimize',\n",
      "            'optimization_objective': 'test_accuracy',\n",
      "            'optimizer_adam_beta_1': 0.9,\n",
      "            'optimizer_adam_beta_2': 0.999,\n",
      "            'optimizer_eps': 1e-08,\n",
      "            'optimizer_momentum': 0.0,\n",
      "            'optimizer_spsa_initial_lr': 0.1,\n",
      "            'optimizer_spsa_initial_perturb_magnitude': 0.01,\n",
      "            'optimizer_spsa_lr_decay': 0.602,\n",
      "            'optimizer_spsa_lr_stabilizer': None,\n",
      "            'optimizer_spsa_perturb_decay': 0.101,\n",
      "            'optimizer_type': 'sgd',\n",
      "            'output': '/run/media/dima/Scratch/perturb_experiment/run_out',\n",
      "            'perturb_amount': 5,\n",
      "            'perturb_loss_mult': 0,\n",
      "            'perturb_mean': 0.0,\n",
      "            'perturb_start': 0,\n",
      "            'perturb_variance': 0.3,\n",
      "            'quantization_granularity': 'layer',\n",
      "            'quantization_kmeans_init': 'k-means++',\n",
      "            'quantization_kmeans_params': {},\n",
      "            'quantization_method': 'uniform_affine',\n",
      "            'quantization_round_strategy': 'nearest',\n",
      "            'quantization_type': 'linear',\n",
      "            'quantize_levels': [2, 4, 8, 16, 32, 64, 128, 256],\n",
      "            'reruns': 0,\n",
      "            'scheduler_T_max': -1,\n",
      "            'scheduler_eta_min': 0.0,\n",
      "            'scheduler_gamma': 0.1,\n",
      "            'scheduler_lambda_last_epoch': -1,\n",
      "            'scheduler_lambda_multiplier': 1,\n",
      "            'scheduler_milestones': [],\n",
      "            'scheduler_step_size': -1,\n",
      "            'scheduler_step_type': 'epoch',\n",
      "            'scheduler_type': 'const',\n",
      "            'search_space': {},\n",
      "            'seed': 1,\n",
      "            'study_name': 'resnet18_baseline',\n",
      "            'testing_transforms': [],\n",
      "            'training_transforms': [],\n",
      "            'weight_decay': 1e-05},\n",
      " 'search_space': {}}\n",
      "INFO:study_logger:Saving run path: /run/media/dima/Scratch/perturb_experiment/run_out/resnet18_baseline/566adc664588268d1c83f2a7ddd1d4a1/run_data.parquet\n"
     ]
    },
    {
     "name": "stdout",
     "output_type": "stream",
     "text": [
      "Achieved accuracy: {'test_accuracy_max': 0.666, 'test_accuracy_last': 0.666, 'quant_2_test_accuracy_max': 0.010083333333333333, 'quant_2_test_accuracy_last': 0.010083333333333333, 'quant_4_test_accuracy_max': 0.009416666666666667, 'quant_4_test_accuracy_last': 0.009416666666666667, 'quant_8_test_accuracy_max': 0.587, 'quant_8_test_accuracy_last': 0.587, 'quant_16_test_accuracy_max': 0.65475, 'quant_16_test_accuracy_last': 0.65475, 'quant_32_test_accuracy_max': 0.666, 'quant_32_test_accuracy_last': 0.666, 'quant_64_test_accuracy_max': 0.66475, 'quant_64_test_accuracy_last': 0.66475, 'quant_128_test_accuracy_max': 0.6655, 'quant_128_test_accuracy_last': 0.6655, 'quant_256_test_accuracy_max': 0.6660833333333334, 'quant_256_test_accuracy_last': 0.6660833333333334}\n"
     ]
    }
   ],
   "source": [
    "study.start()"
   ]
  },
  {
   "cell_type": "code",
   "execution_count": 8,
   "id": "73908f1e-2303-4240-9be8-08add9a08e45",
   "metadata": {},
   "outputs": [
    {
     "data": {
      "text/html": [
       "<div>\n",
       "<style scoped>\n",
       "    .dataframe tbody tr th:only-of-type {\n",
       "        vertical-align: middle;\n",
       "    }\n",
       "\n",
       "    .dataframe tbody tr th {\n",
       "        vertical-align: top;\n",
       "    }\n",
       "\n",
       "    .dataframe thead th {\n",
       "        text-align: right;\n",
       "    }\n",
       "</style>\n",
       "<table border=\"1\" class=\"dataframe\">\n",
       "  <thead>\n",
       "    <tr style=\"text-align: right;\">\n",
       "      <th></th>\n",
       "      <th>epoch_num</th>\n",
       "      <th>run_num</th>\n",
       "      <th>time</th>\n",
       "      <th>test_accuracy</th>\n",
       "      <th>quant_2_test_accuracy</th>\n",
       "      <th>quant_2_params</th>\n",
       "      <th>quant_4_test_accuracy</th>\n",
       "      <th>quant_4_params</th>\n",
       "      <th>quant_8_test_accuracy</th>\n",
       "      <th>quant_8_params</th>\n",
       "      <th>quant_16_test_accuracy</th>\n",
       "      <th>quant_16_params</th>\n",
       "      <th>quant_32_test_accuracy</th>\n",
       "      <th>quant_32_params</th>\n",
       "      <th>quant_64_test_accuracy</th>\n",
       "      <th>quant_64_params</th>\n",
       "      <th>quant_128_test_accuracy</th>\n",
       "      <th>quant_128_params</th>\n",
       "      <th>quant_256_test_accuracy</th>\n",
       "      <th>quant_256_params</th>\n",
       "    </tr>\n",
       "  </thead>\n",
       "  <tbody>\n",
       "    <tr>\n",
       "      <th>0</th>\n",
       "      <td>0</td>\n",
       "      <td>0</td>\n",
       "      <td>2025-02-05 17:09:05.386389</td>\n",
       "      <td>0.674333</td>\n",
       "      <td>0.010667</td>\n",
       "      <td>{'model': {'codebook': [0.04535364, -0.0554456...</td>\n",
       "      <td>0.015417</td>\n",
       "      <td>{'model': {'codebook': [0.08868911, -0.0393943...</td>\n",
       "      <td>0.015083</td>\n",
       "      <td>{'model': {'codebook': [-0.011951736, 0.107779...</td>\n",
       "      <td>0.375833</td>\n",
       "      <td>{'model': {'codebook': [-0.120865606, 0.047895...</td>\n",
       "      <td>0.568333</td>\n",
       "      <td>{'model': {'codebook': [-0.060272735, 0.025353...</td>\n",
       "      <td>0.596917</td>\n",
       "      <td>{'model': {'codebook': [0.12940454, -0.0444612...</td>\n",
       "      <td>0.601417</td>\n",
       "      <td>{'model': {'codebook': [0.10918268, -0.0324613...</td>\n",
       "      <td>0.62375</td>\n",
       "      <td>{'model': {'codebook': [-0.03730406, 0.0598738...</td>\n",
       "    </tr>\n",
       "  </tbody>\n",
       "</table>\n",
       "</div>"
      ],
      "text/plain": [
       "   epoch_num  run_num                       time  test_accuracy  \\\n",
       "0          0        0 2025-02-05 17:09:05.386389       0.674333   \n",
       "\n",
       "   quant_2_test_accuracy                                     quant_2_params  \\\n",
       "0               0.010667  {'model': {'codebook': [0.04535364, -0.0554456...   \n",
       "\n",
       "   quant_4_test_accuracy                                     quant_4_params  \\\n",
       "0               0.015417  {'model': {'codebook': [0.08868911, -0.0393943...   \n",
       "\n",
       "   quant_8_test_accuracy                                     quant_8_params  \\\n",
       "0               0.015083  {'model': {'codebook': [-0.011951736, 0.107779...   \n",
       "\n",
       "   quant_16_test_accuracy                                    quant_16_params  \\\n",
       "0                0.375833  {'model': {'codebook': [-0.120865606, 0.047895...   \n",
       "\n",
       "   quant_32_test_accuracy                                    quant_32_params  \\\n",
       "0                0.568333  {'model': {'codebook': [-0.060272735, 0.025353...   \n",
       "\n",
       "   quant_64_test_accuracy                                    quant_64_params  \\\n",
       "0                0.596917  {'model': {'codebook': [0.12940454, -0.0444612...   \n",
       "\n",
       "   quant_128_test_accuracy                                   quant_128_params  \\\n",
       "0                 0.601417  {'model': {'codebook': [0.10918268, -0.0324613...   \n",
       "\n",
       "   quant_256_test_accuracy                                   quant_256_params  \n",
       "0                  0.62375  {'model': {'codebook': [-0.03730406, 0.0598738...  "
      ]
     },
     "execution_count": 8,
     "metadata": {},
     "output_type": "execute_result"
    }
   ],
   "source": [
    "pd.read_parquet(\"/run/media/dima/Scratch/perturb_experiment/run_out/resnet18_baseline/3bab331904c7bd3a17928e13c1f17765/run_data.parquet\")"
   ]
  },
  {
   "cell_type": "code",
   "execution_count": 8,
   "id": "ce0aa9fb-dad9-4212-a386-c302ae658923",
   "metadata": {},
   "outputs": [
    {
     "data": {
      "text/plain": [
       "0.0182"
      ]
     },
     "execution_count": 8,
     "metadata": {},
     "output_type": "execute_result"
    }
   ],
   "source": [
    "runner.eval_accuracy(\"test\")"
   ]
  },
  {
   "cell_type": "code",
   "execution_count": 9,
   "id": "e2776eb6-1c41-4c70-ab66-7fae51e685ba",
   "metadata": {},
   "outputs": [
    {
     "ename": "AttributeError",
     "evalue": "'Runner' object has no attribute 'load_checkpoint'",
     "output_type": "error",
     "traceback": [
      "\u001b[0;31m---------------------------------------------------------------------------\u001b[0m",
      "\u001b[0;31mAttributeError\u001b[0m                            Traceback (most recent call last)",
      "Cell \u001b[0;32mIn[9], line 1\u001b[0m\n\u001b[0;32m----> 1\u001b[0m \u001b[43mrunner\u001b[49m\u001b[38;5;241;43m.\u001b[39;49m\u001b[43mload_checkpoint\u001b[49m(\u001b[38;5;241m53\u001b[39m)\n",
      "\u001b[0;31mAttributeError\u001b[0m: 'Runner' object has no attribute 'load_checkpoint'"
     ]
    }
   ],
   "source": [
    "runner.load_checkpoint(53)"
   ]
  },
  {
   "cell_type": "code",
   "execution_count": null,
   "id": "8f7a85cd-b684-436a-9e76-48a8e6f81ccd",
   "metadata": {},
   "outputs": [],
   "source": [
    "0.0182"
   ]
  },
  {
   "cell_type": "code",
   "execution_count": null,
   "id": "cf05e485-2848-4991-a789-8625dc282a8f",
   "metadata": {},
   "outputs": [],
   "source": [
    "torch."
   ]
  }
 ],
 "metadata": {
  "kernelspec": {
   "display_name": "Python 3 (ipykernel)",
   "language": "python",
   "name": "python3"
  },
  "language_info": {
   "codemirror_mode": {
    "name": "ipython",
    "version": 3
   },
   "file_extension": ".py",
   "mimetype": "text/x-python",
   "name": "python",
   "nbconvert_exporter": "python",
   "pygments_lexer": "ipython3",
   "version": "3.12.2"
  }
 },
 "nbformat": 4,
 "nbformat_minor": 5
}
